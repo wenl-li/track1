{
 "cells": [
  {
   "cell_type": "code",
   "execution_count": 1,
   "metadata": {},
   "outputs": [],
   "source": [
    "import pandas as pd\n",
    "import pickle\n",
    "import numpy as np"
   ]
  },
  {
   "cell_type": "markdown",
   "metadata": {},
   "source": [
    "# Data Reader"
   ]
  },
  {
   "cell_type": "code",
   "execution_count": 2,
   "metadata": {},
   "outputs": [],
   "source": [
    "data = pd.read_csv('./datasets/trainset.csv',delimiter=\" \")"
   ]
  },
  {
   "cell_type": "code",
   "execution_count": 3,
   "metadata": {},
   "outputs": [],
   "source": [
    "data_v = pd.read_csv('./datasets/track1_testset.csv',' ')"
   ]
  },
  {
   "cell_type": "code",
   "execution_count": 4,
   "metadata": {},
   "outputs": [],
   "source": [
    "def data_reader(data):\n",
    "    tmp_list = data['user_click_history'].tolist()\n",
    "    time_list = data['time'].tolist()\n",
    "    return tmp_list,time_list"
   ]
  },
  {
   "cell_type": "markdown",
   "metadata": {},
   "source": [
    "# Events"
   ]
  },
  {
   "cell_type": "code",
   "execution_count": 5,
   "metadata": {},
   "outputs": [],
   "source": [
    "#time_step=600\n",
    "def item_time_window(tmp_list):\n",
    "    #input:raw data\n",
    "    #output:last click item time,each user's item list in time window,item list 2D\n",
    "    \n",
    "    item_event,last_time,flat_event = [],[],[]\n",
    "    for user_item in tmp_list:\n",
    "        item_list = user_item.split(',')\n",
    "        user_item_seq,item_seq,item_seq_str =[],[],[]\n",
    "        time_tmp = 0\n",
    "        for item in item_list:\n",
    "            item_time = item.split(':')\n",
    "            if not item_seq or int(item_time[1])-time_tmp<600:\n",
    "                time_tmp = int(item_time[1])\n",
    "                item_seq.append(int(item_time[0]))\n",
    "                item_seq_str.append(str(item_time[0]))\n",
    "            else:\n",
    "                user_item_seq.append(item_seq)\n",
    "                flat_event.append(item_seq_str)\n",
    "                item_seq = []\n",
    "                item_seq_str = []\n",
    "                item_seq.append(int(item_time[0]))\n",
    "                item_seq_str.append(str(item_time[0]))\n",
    "                time_tmp = int(item_time[1])\n",
    "        user_item_seq.append(item_seq)\n",
    "        flat_event.append(item_seq_str)\n",
    "        item_event.append(user_item_seq)\n",
    "        last_time.append(time_tmp)\n",
    "    return last_time,item_event,flat_event"
   ]
  },
  {
   "cell_type": "code",
   "execution_count": 6,
   "metadata": {},
   "outputs": [],
   "source": [
    "def time_interval_weights(tmp_list,time_list,bins):\n",
    "    #input:raw data\n",
    "    #output:time between last_time and raw time\n",
    "    \n",
    "    users_time = []\n",
    "    for n,user in enumerate(tmp_list):\n",
    "        user_time = []\n",
    "        item_list = user.split(',')\n",
    "        pur_time = int(time_list[n])\n",
    "        for item in item_list:\n",
    "            time = int(item.split(':')[1])\n",
    "            user_time.append(pur_time-time)\n",
    "        users_time.append(user_time)\n",
    "    time_weights = [0]*len(time_list)\n",
    "    for n,aa in enumerate(users_time):\n",
    "        aa = np.array(aa).astype('float64')\n",
    "        time_weights[n]=pd.cut(aa-aa[-1]+0.1,bins,labels =[float('%.2f'%(1-0.05*i)) for i in range(9)]).tolist()\n",
    "    return time_weights"
   ]
  },
  {
   "cell_type": "code",
   "execution_count": 7,
   "metadata": {
    "scrolled": false
   },
   "outputs": [],
   "source": [
    "def data_item_event(tmp_list):\n",
    "    users_item = []\n",
    "    for user_item in tmp_list:\n",
    "        item_list = user_item.split(',')\n",
    "        user_item =[]\n",
    "        for item in item_list:\n",
    "            item_time = item.split(':')\n",
    "            user_item.append(int(item_time[0]))\n",
    "        users_item.append(user_item)\n",
    "    return users_item"
   ]
  },
  {
   "cell_type": "code",
   "execution_count": 8,
   "metadata": {},
   "outputs": [],
   "source": [
    "def preprocessed(data,data_name,flat_name,bins):\n",
    "    tmp_list,time_list = data_reader(data)\n",
    "    last_time,item_event,flat_event = item_time_window(tmp_list)\n",
    "    time_weights = time_interval_weights(tmp_list,time_list,bins)\n",
    "    users_item = data_item_event(tmp_list)\n",
    "    data.loc[:,'item_event'] = users_item\n",
    "    data.loc[:,'last_time']=last_time\n",
    "    aaa = (data['time']-data['last_time'])\n",
    "    interval = pd.cut(aaa,bins,labels =[1-0.05*i for i in range(9)])\n",
    "    data.loc[:,'time_weights']=time_weights\n",
    "    data.loc[:,'interval']=interval\n",
    "    new_data = data[['user_id','item_event','user_protrait','exposed_items','labels','interval','time_weights']]\n",
    "    new_data.to_csv('./datasets/'+data_name+'.csv',index=False)\n",
    "    pickle.dump(flat_event, open('./datasets/'+flat_name+'.txt','wb'),0)"
   ]
  },
  {
   "cell_type": "code",
   "execution_count": 9,
   "metadata": {},
   "outputs": [],
   "source": [
    "#cut by day\n",
    "bins = [0,86400,172800,259200,345600,432000,518400,604800,1296000,10000000000]"
   ]
  },
  {
   "cell_type": "code",
   "execution_count": 10,
   "metadata": {},
   "outputs": [
    {
     "name": "stderr",
     "output_type": "stream",
     "text": [
      "/home/liwenliang/anaconda3/envs/rob/lib/python3.6/site-packages/pandas/core/dtypes/missing.py:495: VisibleDeprecationWarning: Creating an ndarray from ragged nested sequences (which is a list-or-tuple of lists-or-tuples-or ndarrays with different lengths or shapes) is deprecated. If you meant to do this, you must specify 'dtype=object' when creating the ndarray\n",
      "  val = np.array(val, copy=False)\n",
      "/home/liwenliang/anaconda3/envs/rob/lib/python3.6/site-packages/numpy/core/_asarray.py:83: VisibleDeprecationWarning: Creating an ndarray from ragged nested sequences (which is a list-or-tuple of lists-or-tuples-or ndarrays with different lengths or shapes) is deprecated. If you meant to do this, you must specify 'dtype=object' when creating the ndarray\n",
      "  return array(a, dtype, copy=False, order=order)\n"
     ]
    }
   ],
   "source": [
    "preprocessed(data,'event','flat_events',bins)"
   ]
  },
  {
   "cell_type": "code",
   "execution_count": 11,
   "metadata": {},
   "outputs": [],
   "source": [
    "preprocessed(data_v,'event_v','flat_events_v',bins)"
   ]
  },
  {
   "cell_type": "code",
   "execution_count": null,
   "metadata": {},
   "outputs": [],
   "source": []
  }
 ],
 "metadata": {
  "kernelspec": {
   "display_name": "rob",
   "language": "python",
   "name": "rob"
  },
  "language_info": {
   "codemirror_mode": {
    "name": "ipython",
    "version": 3
   },
   "file_extension": ".py",
   "mimetype": "text/x-python",
   "name": "python",
   "nbconvert_exporter": "python",
   "pygments_lexer": "ipython3",
   "version": "3.6.1"
  }
 },
 "nbformat": 4,
 "nbformat_minor": 2
}
